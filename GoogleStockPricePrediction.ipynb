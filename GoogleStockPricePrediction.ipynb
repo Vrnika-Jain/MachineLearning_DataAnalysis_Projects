{
 "cells": [
  {
   "cell_type": "code",
   "execution_count": 2,
   "id": "c6012f10",
   "metadata": {},
   "outputs": [],
   "source": [
    "#Importing libraries"
   ]
  },
  {
   "cell_type": "code",
   "execution_count": 1,
   "id": "b5e98c05",
   "metadata": {},
   "outputs": [],
   "source": [
    "import numpy as np\n",
    "import pandas as pd\n",
    "import matplotlib.pyplot as plt\n",
    "from sklearn.preprocessing import MinMaxScaler\n",
    "from tensorflow.keras.models import Sequential\n",
    "from tensorflow.keras.layers import LSTM,Dropout,Dense"
   ]
  },
  {
   "cell_type": "code",
   "execution_count": 3,
   "id": "6eae4c90",
   "metadata": {},
   "outputs": [],
   "source": [
    "#Reading training Data"
   ]
  },
  {
   "cell_type": "code",
   "execution_count": 15,
   "id": "a6723be5",
   "metadata": {},
   "outputs": [],
   "source": [
    "dataset_train = pd.read_csv('Google_Stock_Price_Train.csv')\n",
    "training_set = dataset_train.iloc[:, 1:2].values\n",
    "sc = MinMaxScaler(feature_range = (0, 1))\n",
    "training_set_scaled = sc.fit_transform(training_set)\n",
    "X_train = []\n",
    "y_train = []\n",
    "for i in range(60, 1258):\n",
    "    X_train.append(training_set_scaled[i-60:i, 0])\n",
    "    y_train.append(training_set_scaled[i, 0])"
   ]
  },
  {
   "cell_type": "code",
   "execution_count": 5,
   "id": "eb36d9eb",
   "metadata": {},
   "outputs": [],
   "source": [
    "#Getting thr data in shape"
   ]
  },
  {
   "cell_type": "code",
   "execution_count": 16,
   "id": "ac7aeda4",
   "metadata": {},
   "outputs": [],
   "source": [
    "X_train, y_train = np.array(X_train), np.array(y_train)\n",
    "X_train = np.reshape(X_train, (X_train.shape[0], X_train.shape[1], 1))"
   ]
  },
  {
   "cell_type": "code",
   "execution_count": 7,
   "id": "48690207",
   "metadata": {},
   "outputs": [],
   "source": [
    "#Creating stock price prediction model"
   ]
  },
  {
   "cell_type": "code",
   "execution_count": 8,
   "id": "5a35e2d8",
   "metadata": {},
   "outputs": [
    {
     "name": "stdout",
     "output_type": "stream",
     "text": [
      "Model: \"sequential\"\n",
      "_________________________________________________________________\n",
      " Layer (type)                Output Shape              Param #   \n",
      "=================================================================\n",
      " lstm (LSTM)                 (None, 60, 50)            10400     \n",
      "                                                                 \n",
      " dropout (Dropout)           (None, 60, 50)            0         \n",
      "                                                                 \n",
      " lstm_1 (LSTM)               (None, 60, 50)            20200     \n",
      "                                                                 \n",
      " dropout_1 (Dropout)         (None, 60, 50)            0         \n",
      "                                                                 \n",
      " lstm_2 (LSTM)               (None, 60, 50)            20200     \n",
      "                                                                 \n",
      " dropout_2 (Dropout)         (None, 60, 50)            0         \n",
      "                                                                 \n",
      " lstm_3 (LSTM)               (None, 50)                20200     \n",
      "                                                                 \n",
      " dropout_3 (Dropout)         (None, 50)                0         \n",
      "                                                                 \n",
      " dense (Dense)               (None, 1)                 51        \n",
      "                                                                 \n",
      "=================================================================\n",
      "Total params: 71,051\n",
      "Trainable params: 71,051\n",
      "Non-trainable params: 0\n",
      "_________________________________________________________________\n",
      "None\n"
     ]
    }
   ],
   "source": [
    "regressor = Sequential()\n",
    "\n",
    "regressor.add(LSTM(units = 50, return_sequences = True, input_shape = (X_train.shape[1], 1)))\n",
    "regressor.add(Dropout(0.2))\n",
    "\n",
    "regressor.add(LSTM(units = 50, return_sequences = True))\n",
    "regressor.add(Dropout(0.2))\n",
    "\n",
    "regressor.add(LSTM(units = 50, return_sequences = True))\n",
    "regressor.add(Dropout(0.2))\n",
    "\n",
    "regressor.add(LSTM(units = 50))\n",
    "regressor.add(Dropout(0.2))\n",
    "\n",
    "regressor.add(Dense(units = 1))\n",
    "\n",
    "regressor.compile(optimizer = 'adam', loss = 'mean_squared_error')\n",
    "\n",
    "print(regressor.summary())"
   ]
  },
  {
   "cell_type": "code",
   "execution_count": 9,
   "id": "c5de70b7",
   "metadata": {},
   "outputs": [],
   "source": [
    "#training the stock price prediction model"
   ]
  },
  {
   "cell_type": "code",
   "execution_count": 10,
   "id": "085c6e0e",
   "metadata": {},
   "outputs": [
    {
     "name": "stdout",
     "output_type": "stream",
     "text": [
      "Epoch 1/100\n",
      "38/38 [==============================] - 44s 241ms/step - loss: 0.0406\n",
      "Epoch 2/100\n",
      "38/38 [==============================] - 8s 210ms/step - loss: 0.0069\n",
      "Epoch 3/100\n",
      "38/38 [==============================] - 9s 237ms/step - loss: 0.0054\n",
      "Epoch 4/100\n",
      "38/38 [==============================] - 9s 226ms/step - loss: 0.0050\n",
      "Epoch 5/100\n",
      "38/38 [==============================] - 9s 226ms/step - loss: 0.0048\n",
      "Epoch 6/100\n",
      "38/38 [==============================] - 8s 199ms/step - loss: 0.0046\n",
      "Epoch 7/100\n",
      "38/38 [==============================] - 9s 230ms/step - loss: 0.0048\n",
      "Epoch 8/100\n",
      "38/38 [==============================] - 8s 218ms/step - loss: 0.0045\n",
      "Epoch 9/100\n",
      "38/38 [==============================] - 9s 228ms/step - loss: 0.0043\n",
      "Epoch 10/100\n",
      "38/38 [==============================] - 8s 209ms/step - loss: 0.0040\n",
      "Epoch 11/100\n",
      "38/38 [==============================] - 8s 219ms/step - loss: 0.0044\n",
      "Epoch 12/100\n",
      "38/38 [==============================] - 9s 231ms/step - loss: 0.0041\n",
      "Epoch 13/100\n",
      "38/38 [==============================] - 9s 225ms/step - loss: 0.0040\n",
      "Epoch 14/100\n",
      "38/38 [==============================] - 7s 189ms/step - loss: 0.0046\n",
      "Epoch 15/100\n",
      "38/38 [==============================] - 8s 218ms/step - loss: 0.0043\n",
      "Epoch 16/100\n",
      "38/38 [==============================] - 8s 220ms/step - loss: 0.0036\n",
      "Epoch 17/100\n",
      "38/38 [==============================] - 8s 217ms/step - loss: 0.0039\n",
      "Epoch 18/100\n",
      "38/38 [==============================] - 7s 188ms/step - loss: 0.0038\n",
      "Epoch 19/100\n",
      "38/38 [==============================] - 8s 216ms/step - loss: 0.0040\n",
      "Epoch 20/100\n",
      "38/38 [==============================] - 8s 213ms/step - loss: 0.0033\n",
      "Epoch 21/100\n",
      "38/38 [==============================] - 8s 220ms/step - loss: 0.0035\n",
      "Epoch 22/100\n",
      "38/38 [==============================] - 8s 216ms/step - loss: 0.0033\n",
      "Epoch 23/100\n",
      "38/38 [==============================] - 7s 186ms/step - loss: 0.0030\n",
      "Epoch 24/100\n",
      "38/38 [==============================] - 8s 212ms/step - loss: 0.0033\n",
      "Epoch 25/100\n",
      "38/38 [==============================] - 8s 219ms/step - loss: 0.0030\n",
      "Epoch 26/100\n",
      "38/38 [==============================] - 8s 214ms/step - loss: 0.0032\n",
      "Epoch 27/100\n",
      "38/38 [==============================] - 8s 215ms/step - loss: 0.0030\n",
      "Epoch 28/100\n",
      "38/38 [==============================] - 7s 189ms/step - loss: 0.0033\n",
      "Epoch 29/100\n",
      "38/38 [==============================] - 8s 212ms/step - loss: 0.0030\n",
      "Epoch 30/100\n",
      "38/38 [==============================] - 8s 217ms/step - loss: 0.0032\n",
      "Epoch 31/100\n",
      "38/38 [==============================] - 8s 215ms/step - loss: 0.0027\n",
      "Epoch 32/100\n",
      "38/38 [==============================] - 8s 214ms/step - loss: 0.0030\n",
      "Epoch 33/100\n",
      "38/38 [==============================] - 7s 182ms/step - loss: 0.0028\n",
      "Epoch 34/100\n",
      "38/38 [==============================] - 9s 224ms/step - loss: 0.0030\n",
      "Epoch 35/100\n",
      "38/38 [==============================] - 8s 220ms/step - loss: 0.0030\n",
      "Epoch 36/100\n",
      "38/38 [==============================] - 8s 213ms/step - loss: 0.0028\n",
      "Epoch 37/100\n",
      "38/38 [==============================] - 7s 193ms/step - loss: 0.0026\n",
      "Epoch 38/100\n",
      "38/38 [==============================] - 8s 217ms/step - loss: 0.0025\n",
      "Epoch 39/100\n",
      "38/38 [==============================] - 8s 219ms/step - loss: 0.0025\n",
      "Epoch 40/100\n",
      "38/38 [==============================] - 8s 219ms/step - loss: 0.0025\n",
      "Epoch 41/100\n",
      "38/38 [==============================] - 8s 206ms/step - loss: 0.0029\n",
      "Epoch 42/100\n",
      "38/38 [==============================] - 7s 197ms/step - loss: 0.0028\n",
      "Epoch 43/100\n",
      "38/38 [==============================] - 8s 218ms/step - loss: 0.0022\n",
      "Epoch 44/100\n",
      "38/38 [==============================] - 8s 216ms/step - loss: 0.0024\n",
      "Epoch 45/100\n",
      "38/38 [==============================] - 8s 212ms/step - loss: 0.0023\n",
      "Epoch 46/100\n",
      "38/38 [==============================] - 8s 211ms/step - loss: 0.0029\n",
      "Epoch 47/100\n",
      "38/38 [==============================] - 8s 198ms/step - loss: 0.0023\n",
      "Epoch 48/100\n",
      "38/38 [==============================] - 8s 220ms/step - loss: 0.0023\n",
      "Epoch 49/100\n",
      "38/38 [==============================] - 8s 217ms/step - loss: 0.0022\n",
      "Epoch 50/100\n",
      "38/38 [==============================] - 8s 219ms/step - loss: 0.0022\n",
      "Epoch 51/100\n",
      "38/38 [==============================] - 8s 206ms/step - loss: 0.0022\n",
      "Epoch 52/100\n",
      "38/38 [==============================] - 8s 203ms/step - loss: 0.0023\n",
      "Epoch 53/100\n",
      "38/38 [==============================] - 8s 220ms/step - loss: 0.0022\n",
      "Epoch 54/100\n",
      "38/38 [==============================] - 8s 217ms/step - loss: 0.0025\n",
      "Epoch 55/100\n",
      "38/38 [==============================] - 8s 218ms/step - loss: 0.0021\n",
      "Epoch 56/100\n",
      "38/38 [==============================] - 8s 204ms/step - loss: 0.0022\n",
      "Epoch 57/100\n",
      "38/38 [==============================] - 8s 201ms/step - loss: 0.0023\n",
      "Epoch 58/100\n",
      "38/38 [==============================] - 8s 220ms/step - loss: 0.0019\n",
      "Epoch 59/100\n",
      "38/38 [==============================] - 8s 221ms/step - loss: 0.0022\n",
      "Epoch 60/100\n",
      "38/38 [==============================] - 8s 222ms/step - loss: 0.0021\n",
      "Epoch 61/100\n",
      "38/38 [==============================] - 8s 200ms/step - loss: 0.0019\n",
      "Epoch 62/100\n",
      "38/38 [==============================] - 8s 204ms/step - loss: 0.0020\n",
      "Epoch 63/100\n",
      "38/38 [==============================] - 8s 219ms/step - loss: 0.0019\n",
      "Epoch 64/100\n",
      "38/38 [==============================] - 8s 219ms/step - loss: 0.0018\n",
      "Epoch 65/100\n",
      "38/38 [==============================] - 8s 218ms/step - loss: 0.0019\n",
      "Epoch 66/100\n",
      "38/38 [==============================] - 8s 202ms/step - loss: 0.0020\n",
      "Epoch 67/100\n",
      "38/38 [==============================] - 8s 205ms/step - loss: 0.0016\n",
      "Epoch 68/100\n",
      "38/38 [==============================] - 8s 223ms/step - loss: 0.0018\n",
      "Epoch 69/100\n",
      "38/38 [==============================] - 8s 218ms/step - loss: 0.0020\n",
      "Epoch 70/100\n",
      "38/38 [==============================] - 8s 201ms/step - loss: 0.0020\n",
      "Epoch 71/100\n",
      "38/38 [==============================] - 8s 198ms/step - loss: 0.0020\n",
      "Epoch 72/100\n",
      "38/38 [==============================] - 8s 199ms/step - loss: 0.0017\n",
      "Epoch 73/100\n",
      "38/38 [==============================] - 8s 214ms/step - loss: 0.0019\n",
      "Epoch 74/100\n",
      "38/38 [==============================] - 8s 223ms/step - loss: 0.0017\n",
      "Epoch 75/100\n",
      "38/38 [==============================] - 8s 222ms/step - loss: 0.0017\n",
      "Epoch 76/100\n",
      "38/38 [==============================] - 8s 202ms/step - loss: 0.0020\n",
      "Epoch 77/100\n",
      "38/38 [==============================] - 8s 212ms/step - loss: 0.0016\n",
      "Epoch 78/100\n",
      "38/38 [==============================] - 9s 224ms/step - loss: 0.0018\n",
      "Epoch 79/100\n",
      "38/38 [==============================] - 8s 221ms/step - loss: 0.0017\n",
      "Epoch 80/100\n",
      "38/38 [==============================] - 8s 222ms/step - loss: 0.0017\n",
      "Epoch 81/100\n",
      "38/38 [==============================] - 7s 192ms/step - loss: 0.0017\n",
      "Epoch 82/100\n",
      "38/38 [==============================] - 8s 212ms/step - loss: 0.0017\n",
      "Epoch 83/100\n",
      "38/38 [==============================] - 8s 222ms/step - loss: 0.0015\n",
      "Epoch 84/100\n",
      "38/38 [==============================] - 8s 221ms/step - loss: 0.0017\n",
      "Epoch 85/100\n",
      "38/38 [==============================] - 8s 222ms/step - loss: 0.0015\n",
      "Epoch 86/100\n",
      "38/38 [==============================] - 7s 187ms/step - loss: 0.0017\n",
      "Epoch 87/100\n",
      "38/38 [==============================] - 8s 221ms/step - loss: 0.0016\n",
      "Epoch 88/100\n",
      "38/38 [==============================] - 9s 226ms/step - loss: 0.0015\n",
      "Epoch 89/100\n",
      "38/38 [==============================] - 8s 222ms/step - loss: 0.0014\n",
      "Epoch 90/100\n",
      "38/38 [==============================] - 8s 222ms/step - loss: 0.0014\n",
      "Epoch 91/100\n",
      "38/38 [==============================] - 7s 187ms/step - loss: 0.0015\n",
      "Epoch 92/100\n",
      "38/38 [==============================] - 9s 224ms/step - loss: 0.0014\n",
      "Epoch 93/100\n",
      "38/38 [==============================] - 8s 223ms/step - loss: 0.0017\n",
      "Epoch 94/100\n",
      "38/38 [==============================] - 8s 218ms/step - loss: 0.0016\n",
      "Epoch 95/100\n",
      "38/38 [==============================] - 8s 223ms/step - loss: 0.0014\n",
      "Epoch 96/100\n",
      "38/38 [==============================] - 7s 187ms/step - loss: 0.0017\n",
      "Epoch 97/100\n",
      "38/38 [==============================] - 8s 212ms/step - loss: 0.0017\n",
      "Epoch 98/100\n",
      "38/38 [==============================] - 9s 224ms/step - loss: 0.0014\n",
      "Epoch 99/100\n"
     ]
    },
    {
     "name": "stdout",
     "output_type": "stream",
     "text": [
      "38/38 [==============================] - 9s 224ms/step - loss: 0.0013\n",
      "Epoch 100/100\n",
      "38/38 [==============================] - 8s 222ms/step - loss: 0.0014\n"
     ]
    },
    {
     "data": {
      "text/plain": [
       "<keras.callbacks.History at 0x212c411ab80>"
      ]
     },
     "execution_count": 10,
     "metadata": {},
     "output_type": "execute_result"
    }
   ],
   "source": [
    "regressor.fit(X_train, y_train, epochs = 100, batch_size = 32)"
   ]
  },
  {
   "cell_type": "code",
   "execution_count": 11,
   "id": "2beb3b32",
   "metadata": {},
   "outputs": [],
   "source": [
    "#reading test data"
   ]
  },
  {
   "cell_type": "code",
   "execution_count": 18,
   "id": "4e5dfb15",
   "metadata": {},
   "outputs": [],
   "source": [
    "dataset_test = pd.read_csv('Google_Stock_Price_Test.csv')\n",
    "real_stock_price = dataset_test.iloc[:, 1:2].values"
   ]
  },
  {
   "cell_type": "code",
   "execution_count": 19,
   "id": "a1ec03c4",
   "metadata": {},
   "outputs": [],
   "source": [
    "#getting stock price prediction on test data"
   ]
  },
  {
   "cell_type": "code",
   "execution_count": 20,
   "id": "849e85d7",
   "metadata": {},
   "outputs": [
    {
     "name": "stdout",
     "output_type": "stream",
     "text": [
      "1/1 [==============================] - 5s 5s/step\n"
     ]
    }
   ],
   "source": [
    "dataset_total = pd.concat((dataset_train['Open'], dataset_test['Open']), axis = 0)\n",
    "\n",
    "inputs = dataset_total[len(dataset_total) - len(dataset_test) - 60:].values\n",
    "\n",
    "inputs = inputs.reshape(-1,1)\n",
    "inputs = sc.transform(inputs)\n",
    "\n",
    "X_test = []\n",
    "\n",
    "for i in range(60, 80):\n",
    "    X_test.append(inputs[i-60:i, 0])\n",
    "    \n",
    "X_test = np.array(X_test)\n",
    "X_test = np.reshape(X_test, (X_test.shape[0], X_test.shape[1], 1))\n",
    "\n",
    "predicted_stock_price = regressor.predict(X_test)\n",
    "predicted_stock_price = sc.inverse_transform(predicted_stock_price)"
   ]
  },
  {
   "cell_type": "code",
   "execution_count": 21,
   "id": "3d9cf613",
   "metadata": {},
   "outputs": [],
   "source": [
    "#plotting predictions and real data"
   ]
  },
  {
   "cell_type": "code",
   "execution_count": 22,
   "id": "ef687039",
   "metadata": {},
   "outputs": [
    {
     "data": {
      "image/png": "[encoded data removed]",
      "text/plain": [
       "<Figure size 432x288 with 1 Axes>"
      ]
     },
     "metadata": {
      "needs_background": "light"
     },
     "output_type": "display_data"
    }
   ],
   "source": [
    "plt.plot(real_stock_price, color = 'red', label = 'Real Google Stock Price')\n",
    "plt.plot(predicted_stock_price, color = 'blue', label = 'Predicted Google Stock Price')\n",
    "\n",
    "plt.title('Google Stock Price Prediction')\n",
    "\n",
    "plt.xlabel('Time')\n",
    "plt.ylabel('Google Stock Price')\n",
    "\n",
    "plt.legend()\n",
    "\n",
    "plt.show()"
   ]
  },
  {
   "cell_type": "code",
   "execution_count": null,
   "id": "564d8d4c",
   "metadata": {},
   "outputs": [],
   "source": []
  }
 ],
 "metadata": {
  "kernelspec": {
   "display_name": "Python 3",
   "language": "python",
   "name": "python3"
  },
  "language_info": {
   "codemirror_mode": {
    "name": "ipython",
    "version": 3
   },
   "file_extension": ".py",
   "mimetype": "text/x-python",
   "name": "python",
   "nbconvert_exporter": "python",
   "pygments_lexer": "ipython3",
   "version": "3.8.8"
  }
 },
 "nbformat": 4,
 "nbformat_minor": 5
}
